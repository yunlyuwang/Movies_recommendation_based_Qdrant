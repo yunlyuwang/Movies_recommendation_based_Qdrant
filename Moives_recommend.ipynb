{
 "cells": [
  {
   "attachments": {},
   "cell_type": "markdown",
   "metadata": {},
   "source": [
    "# 1 prepare the data first\n",
    "\n",
    " 1) download the movie in USA data json\n",
    " 2) collect the useful information from the movies.json\n",
    " 3) cover it into the vectore using SentenceTransformer"
   ]
  },
  {
   "cell_type": "code",
   "execution_count": 1,
   "metadata": {},
   "outputs": [
    {
     "name": "stdout",
     "output_type": "stream",
     "text": [
      "--2023-04-28 19:51:30--  https://raw.githubusercontent.com/prust/wikipedia-movie-data/master/movies.json\n",
      "Resolving raw.githubusercontent.com (raw.githubusercontent.com)... 185.199.108.133, 185.199.110.133, 185.199.111.133, ...\n",
      "Connecting to raw.githubusercontent.com (raw.githubusercontent.com)|185.199.108.133|:443... connected.\n",
      "HTTP request sent, awaiting response... 200 OK\n",
      "Length: 25818279 (25M) [text/plain]\n",
      "Saving to: ‘movies.json’\n",
      "\n",
      "movies.json         100%[===================>]  24,62M  6,17MB/s    in 4,1s    \n",
      "\n",
      "2023-04-28 19:51:35 (6,08 MB/s) - ‘movies.json’ saved [25818279/25818279]\n",
      "\n"
     ]
    }
   ],
   "source": [
    "!wget https://raw.githubusercontent.com/prust/wikipedia-movie-data/master/movies.json"
   ]
  },
  {
   "cell_type": "code",
   "execution_count": 2,
   "metadata": {},
   "outputs": [],
   "source": [
    "from sentence_transformers import SentenceTransformer\n",
    "import numpy as np\n",
    "import json\n",
    "import pandas as pd\n",
    "from tqdm.notebook import tqdm"
   ]
  },
  {
   "attachments": {},
   "cell_type": "markdown",
   "metadata": {},
   "source": [
    "Notice that there is some useless information in the original JSON file. So only keep the important information by pre-prepare data.  \n",
    "After pre-preparation, save new JSON and load it into Pandas DataFrame."
   ]
  },
  {
   "cell_type": "code",
   "execution_count": 3,
   "metadata": {},
   "outputs": [
    {
     "data": {
      "text/html": [
       "<div>\n",
       "<style scoped>\n",
       "    .dataframe tbody tr th:only-of-type {\n",
       "        vertical-align: middle;\n",
       "    }\n",
       "\n",
       "    .dataframe tbody tr th {\n",
       "        vertical-align: top;\n",
       "    }\n",
       "\n",
       "    .dataframe thead th {\n",
       "        text-align: right;\n",
       "    }\n",
       "</style>\n",
       "<table border=\"1\" class=\"dataframe\">\n",
       "  <thead>\n",
       "    <tr style=\"text-align: right;\">\n",
       "      <th></th>\n",
       "      <th>title</th>\n",
       "      <th>year</th>\n",
       "      <th>cast</th>\n",
       "      <th>extract</th>\n",
       "    </tr>\n",
       "  </thead>\n",
       "  <tbody>\n",
       "    <tr>\n",
       "      <th>0</th>\n",
       "      <td>Feeding Sea Lions</td>\n",
       "      <td>1900</td>\n",
       "      <td>[Paul Boyton]</td>\n",
       "      <td>Feeding Sea Lions is short silent film featuri...</td>\n",
       "    </tr>\n",
       "    <tr>\n",
       "      <th>1</th>\n",
       "      <td>Alice in Wonderland</td>\n",
       "      <td>1903</td>\n",
       "      <td>[May Clark]</td>\n",
       "      <td>Alice in Wonderland is a 1903 British silent f...</td>\n",
       "    </tr>\n",
       "    <tr>\n",
       "      <th>2</th>\n",
       "      <td>The Automobile Thieves</td>\n",
       "      <td>1906</td>\n",
       "      <td>[J. Stuart Blackton, Florence Lawrence]</td>\n",
       "      <td>The Automobile Thieves is an American crime-dr...</td>\n",
       "    </tr>\n",
       "    <tr>\n",
       "      <th>3</th>\n",
       "      <td>Humorous Phases of Funny Faces</td>\n",
       "      <td>1906</td>\n",
       "      <td>[J. Stuart Blackton]</td>\n",
       "      <td>Humorous Phases of Funny Faces is a 1906 short...</td>\n",
       "    </tr>\n",
       "    <tr>\n",
       "      <th>4</th>\n",
       "      <td>Ben Hur</td>\n",
       "      <td>1907</td>\n",
       "      <td>[William S. Hart]</td>\n",
       "      <td>Ben Hur is a 1907 American silent drama film s...</td>\n",
       "    </tr>\n",
       "    <tr>\n",
       "      <th>...</th>\n",
       "      <td>...</td>\n",
       "      <td>...</td>\n",
       "      <td>...</td>\n",
       "      <td>...</td>\n",
       "    </tr>\n",
       "    <tr>\n",
       "      <th>33923</th>\n",
       "      <td>Wonka</td>\n",
       "      <td>2023</td>\n",
       "      <td>[Timothée Chalamet, Keegan-Michael Key, Sally ...</td>\n",
       "      <td>Wonka is an upcoming musical fantasy film dire...</td>\n",
       "    </tr>\n",
       "    <tr>\n",
       "      <th>33924</th>\n",
       "      <td>Aquaman and the Lost Kingdom</td>\n",
       "      <td>2023</td>\n",
       "      <td>[Jason Momoa, Amber Heard, Willem Dafoe, Patri...</td>\n",
       "      <td>Aquaman and the Lost Kingdom is an upcoming Am...</td>\n",
       "    </tr>\n",
       "    <tr>\n",
       "      <th>33925</th>\n",
       "      <td>Untitled Ghostbusters: Afterlife sequel</td>\n",
       "      <td>2023</td>\n",
       "      <td>[Mckenna Grace, Carrie Coon, Finn Wolfhard, Pa...</td>\n",
       "      <td>The untitled Ghostbusters: Afterlife sequel is...</td>\n",
       "    </tr>\n",
       "    <tr>\n",
       "      <th>33926</th>\n",
       "      <td>Rebel Moon</td>\n",
       "      <td>2023</td>\n",
       "      <td>[Sofia Boutella, Charlie Hunnam, Ray Fisher, D...</td>\n",
       "      <td>Rebel Moon is an upcoming American epic space ...</td>\n",
       "    </tr>\n",
       "    <tr>\n",
       "      <th>33927</th>\n",
       "      <td>The Color Purple</td>\n",
       "      <td>2023</td>\n",
       "      <td>[Fantasia Barrino, Colman Domingo, Corey Hawki...</td>\n",
       "      <td>The Color Purple is an upcoming American music...</td>\n",
       "    </tr>\n",
       "  </tbody>\n",
       "</table>\n",
       "<p>33928 rows × 4 columns</p>\n",
       "</div>"
      ],
      "text/plain": [
       "                                         title  year  \\\n",
       "0                            Feeding Sea Lions  1900   \n",
       "1                          Alice in Wonderland  1903   \n",
       "2                       The Automobile Thieves  1906   \n",
       "3               Humorous Phases of Funny Faces  1906   \n",
       "4                                      Ben Hur  1907   \n",
       "...                                        ...   ...   \n",
       "33923                                    Wonka  2023   \n",
       "33924             Aquaman and the Lost Kingdom  2023   \n",
       "33925  Untitled Ghostbusters: Afterlife sequel  2023   \n",
       "33926                               Rebel Moon  2023   \n",
       "33927                         The Color Purple  2023   \n",
       "\n",
       "                                                    cast  \\\n",
       "0                                          [Paul Boyton]   \n",
       "1                                            [May Clark]   \n",
       "2                [J. Stuart Blackton, Florence Lawrence]   \n",
       "3                                   [J. Stuart Blackton]   \n",
       "4                                      [William S. Hart]   \n",
       "...                                                  ...   \n",
       "33923  [Timothée Chalamet, Keegan-Michael Key, Sally ...   \n",
       "33924  [Jason Momoa, Amber Heard, Willem Dafoe, Patri...   \n",
       "33925  [Mckenna Grace, Carrie Coon, Finn Wolfhard, Pa...   \n",
       "33926  [Sofia Boutella, Charlie Hunnam, Ray Fisher, D...   \n",
       "33927  [Fantasia Barrino, Colman Domingo, Corey Hawki...   \n",
       "\n",
       "                                                 extract  \n",
       "0      Feeding Sea Lions is short silent film featuri...  \n",
       "1      Alice in Wonderland is a 1903 British silent f...  \n",
       "2      The Automobile Thieves is an American crime-dr...  \n",
       "3      Humorous Phases of Funny Faces is a 1906 short...  \n",
       "4      Ben Hur is a 1907 American silent drama film s...  \n",
       "...                                                  ...  \n",
       "33923  Wonka is an upcoming musical fantasy film dire...  \n",
       "33924  Aquaman and the Lost Kingdom is an upcoming Am...  \n",
       "33925  The untitled Ghostbusters: Afterlife sequel is...  \n",
       "33926  Rebel Moon is an upcoming American epic space ...  \n",
       "33927  The Color Purple is an upcoming American music...  \n",
       "\n",
       "[33928 rows x 4 columns]"
      ]
     },
     "execution_count": 3,
     "metadata": {},
     "output_type": "execute_result"
    }
   ],
   "source": [
    "with open('movies.json', 'r') as f:\n",
    "    dict_ori = json.load(f)\n",
    "\n",
    "#pre-prepare the data\n",
    "def pre_process(dict):\n",
    "    pre_proce_dict= []\n",
    "    filtered_list = [item for item in dict if 'cast' in item and len(item['cast']) > 0 and 'extract' in item and len(item['extract']) > 0 ]\n",
    "    keys_to_keep = ['title', 'year', 'cast', 'extract']\n",
    "    for d in filtered_list:\n",
    "        filtered_dict = {k: d[k] for k in keys_to_keep if k in d}\n",
    "        pre_proce_dict.append(filtered_dict)\n",
    "    return pre_proce_dict\n",
    "    \n",
    "dict_01 = pre_process(dict_ori)\n",
    "\n",
    "# Convert list of dictionaries to JSON string with indentation\n",
    "json_string = json.dumps(dict_01, indent=2)\n",
    "\n",
    "# Write JSON string to file and save it into data folder.\n",
    "with open('data/useful_movies.json', 'w') as f:\n",
    "    f.write(json_string)\n",
    "\n",
    "# Load JSON string into a Pandas DataFrame\n",
    "df_movie = pd.read_json(json_string)\n",
    "df_movie"
   ]
  },
  {
   "attachments": {},
   "cell_type": "markdown",
   "metadata": {},
   "source": [
    "Then use the available model (SentenceTransformer) to convert the important information into vectors.  \n",
    "Here in the movie data frame, the 'extract' is the most important element which can summary a movie more accurately."
   ]
  },
  {
   "cell_type": "code",
   "execution_count": 74,
   "metadata": {},
   "outputs": [],
   "source": [
    "model = SentenceTransformer('distilbert-base-nli-stsb-mean-tokens', device=\"cpu\") "
   ]
  },
  {
   "attachments": {},
   "cell_type": "markdown",
   "metadata": {},
   "source": [
    "I tried to get the vector locally but it spent over 40 minites to finish.  \n",
    "Due to the limitation of my PC, the conversion was applied in Colab to finish, and download the data vector(vectors_movies.npy) for later to use."
   ]
  },
  {
   "cell_type": "code",
   "execution_count": 75,
   "metadata": {},
   "outputs": [
    {
     "data": {
      "application/vnd.jupyter.widget-view+json": {
       "model_id": "822cb2f68406442496e216fe2ef2f436",
       "version_major": 2,
       "version_minor": 0
      },
      "text/plain": [
       "0it [00:00, ?it/s]"
      ]
     },
     "metadata": {},
     "output_type": "display_data"
    }
   ],
   "source": [
    "vectors_1 = []\n",
    "batch_size_1 = 64\n",
    "batch_1 = []\n",
    "for row in tqdm(df_movie.itertuples()):\n",
    "  description = row.extract\n",
    "  batch_1.append(description)\n",
    "  if len(batch_1) >= batch_size_1:\n",
    "    vectors_1.append(model.encode(batch_1))\n",
    "    batch_1 = []\n",
    "\n",
    "if len(batch_1) > 0:\n",
    "  vectors_1.append(model.encode(batch_1))\n",
    "  batch_1 = []\n",
    "\n",
    "vectors_1 = np.concatenate(vectors_1)\n",
    "np.save('data/vectors_movies.npy', vectors_1, allow_pickle=False)"
   ]
  },
  {
   "attachments": {},
   "cell_type": "markdown",
   "metadata": {},
   "source": [
    "# 2 prepare the vector search engine\n",
    "\n",
    " - Using docker to active Qdrant\n",
    " - active int_vector_search.py to collect and upload the data into Qdrant"
   ]
  },
  {
   "attachments": {},
   "cell_type": "markdown",
   "metadata": {},
   "source": [
    "# 3 Use FastAPI as a recommedation API  \n",
    "- define how to give the recommedation in NeuralSearcher.py\n",
    "- service.py"
   ]
  },
  {
   "attachments": {},
   "cell_type": "markdown",
   "metadata": {},
   "source": [
    "### The rest part of code was for testing."
   ]
  },
  {
   "cell_type": "code",
   "execution_count": 18,
   "metadata": {},
   "outputs": [],
   "source": [
    "from qdrant_client import QdrantClient\n",
    "from qdrant_client.models import VectorParams\n",
    "import os"
   ]
  },
  {
   "cell_type": "code",
   "execution_count": 19,
   "metadata": {},
   "outputs": [],
   "source": [
    "import numpy as np\n",
    "import json\n",
    "import os"
   ]
  },
  {
   "cell_type": "code",
   "execution_count": 25,
   "metadata": {},
   "outputs": [],
   "source": [
    "CODE_DIR = os.getcwd()\n",
    "ROOT_DIR = os.path.dirname(CODE_DIR)\n",
    "DATA_DIR = os.path.join(CODE_DIR, 'data')\n",
    "\n",
    "COLLECTION_NAME = \"movies\"\n",
    "\n",
    "QDRANT_HOST = os.environ.get(\"QDRANT_HOST\", \"localhost\")\n",
    "QDRANT_PORT = os.environ.get(\"QDRANT_PORT\", 6333)"
   ]
  },
  {
   "cell_type": "code",
   "execution_count": 36,
   "metadata": {},
   "outputs": [],
   "source": [
    "vectors_path = os.path.join(DATA_DIR, 'vectors_movies.npy')\n",
    "vectors = np.load(vectors_path)\n",
    "vector_size = vectors.shape[1]\n",
    "\n",
    "payload_path = os.path.join(DATA_DIR, 'useful_movies.json')\n",
    "with open(payload_path, 'r') as f:\n",
    "    data_dict = json.load(f)\n",
    "\n",
    "payload_01 = []\n",
    "for idx, doc in enumerate(data_dict):\n",
    "  payload_01.append(data_dict)"
   ]
  },
  {
   "cell_type": "code",
   "execution_count": 41,
   "metadata": {},
   "outputs": [
    {
     "data": {
      "text/plain": [
       "True"
      ]
     },
     "execution_count": 41,
     "metadata": {},
     "output_type": "execute_result"
    }
   ],
   "source": [
    "qdrant_client = QdrantClient(host=QDRANT_HOST, port=QDRANT_PORT)\n",
    "\n",
    "qdrant_client.recreate_collection(\n",
    "    collection_name=COLLECTION_NAME,\n",
    "    vectors_config=VectorParams(size=vector_size, distance=\"Cosine\")\n",
    ")"
   ]
  },
  {
   "cell_type": "code",
   "execution_count": 42,
   "metadata": {},
   "outputs": [],
   "source": [
    "BATCH_SIZE = 256\n",
    "\n",
    "qdrant_client.upload_collection(\n",
    "    collection_name=COLLECTION_NAME,\n",
    "    vectors=vectors,\n",
    "    payload=data_dict,\n",
    "    ids=None,\n",
    "    batch_size=BATCH_SIZE,\n",
    "    parallel=2\n",
    ")"
   ]
  },
  {
   "cell_type": "markdown",
   "metadata": {},
   "source": []
  }
 ],
 "metadata": {
  "kernelspec": {
   "display_name": "Python 3",
   "language": "python",
   "name": "python3"
  },
  "language_info": {
   "codemirror_mode": {
    "name": "ipython",
    "version": 3
   },
   "file_extension": ".py",
   "mimetype": "text/x-python",
   "name": "python",
   "nbconvert_exporter": "python",
   "pygments_lexer": "ipython3",
   "version": "3.9.6"
  },
  "orig_nbformat": 4,
  "vscode": {
   "interpreter": {
    "hash": "aee8b7b246df8f9039afb4144a1f6fd8d2ca17a180786b69acc140d282b71a49"
   }
  }
 },
 "nbformat": 4,
 "nbformat_minor": 2
}
